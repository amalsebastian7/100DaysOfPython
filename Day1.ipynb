{
 "cells": [
  {
   "cell_type": "code",
   "execution_count": 2,
   "metadata": {},
   "outputs": [
    {
     "name": "stdout",
     "output_type": "stream",
     "text": [
      "The function is declared like this:\n",
      "what to print\n",
      "None\n"
     ]
    }
   ],
   "source": [
    "print(\"The function is declared like this:\")\n",
    "print(print('what to print'))\n"
   ]
  },
  {
   "cell_type": "markdown",
   "metadata": {},
   "source": [
    "Use \"\" and '' for strings (if you use one of it as part of a string then use the other one to define it as a string or the computer may take the string differently and give you a syntax error)"
   ]
  },
  {
   "cell_type": "code",
   "execution_count": 7,
   "metadata": {},
   "outputs": [
    {
     "name": "stdout",
     "output_type": "stream",
     "text": [
      "Line one\n",
      "Line two \n",
      "concatconcat\n"
     ]
    }
   ],
   "source": [
    "print(\"Line one\\nLine two\",\"\\nconcat\"+\"concat\")"
   ]
  },
  {
   "cell_type": "markdown",
   "metadata": {},
   "source": [
    "Use \"\\n\" for next line and use + for adding or concatinating the two strings together"
   ]
  },
  {
   "cell_type": "markdown",
   "metadata": {},
   "source": [
    "Exercises:Debugging\n",
    "\n",
    "print(Day1\")\n",
    "print(\"use\"+\"to concatinate\")\n",
    "  print('this is Day1\"))\n"
   ]
  },
  {
   "cell_type": "markdown",
   "metadata": {},
   "source": [
    "<!-- Answers:\n",
    "print(\"day1\") \n",
    "print('use\"+\"to concatinate') -->\n",
    "<!-- print('this is \"Day1\"') -->\n",
    "Use control+/ after selecting a portion of code to make it as a comment"
   ]
  },
  {
   "cell_type": "code",
   "execution_count": 8,
   "metadata": {},
   "outputs": [],
   "source": [
    "input(\"whats your name?\")\n",
    "#use input function to get input from user ,this line of code is then replaced by the input that is given\n",
    "print(\"Hello\"+input(\"whats your name?\"))\n",
    " "
   ]
  },
  {
   "cell_type": "code",
   "execution_count": 1,
   "metadata": {},
   "outputs": [],
   "source": [
    "# Exercise 2:Input the name and get the number of characters as output\n",
    "print(len(input(\"Whats your name?\")))"
   ]
  },
  {
   "cell_type": "code",
   "execution_count": null,
   "metadata": {},
   "outputs": [],
   "source": [
    "# Variables\n",
    "input(\"whats your name? \")\n",
    "name = input(\"whats your name? \") \n",
    "# we can save the data for after use using the variable\n"
   ]
  },
  {
   "cell_type": "code",
   "execution_count": null,
   "metadata": {},
   "outputs": [],
   "source": [
    "# exercise:band name generator\n",
    "print(\"Welcome user \")\n",
    "city_name = input(\"Whats your city name?\\n\")\n",
    "pet_name = input(\"Whats your pet name?\\n\")\n",
    "print(\"Your band name could be:\"+city_name+\" \"+pet_name)\n"
   ]
  }
 ],
 "metadata": {
  "interpreter": {
   "hash": "cbad4712dc5c6ea2b24750dbe94ca427b7048433db62770d0a2f9a640fa8b038"
  },
  "kernelspec": {
   "display_name": "Python 3.8.8 ('base')",
   "language": "python",
   "name": "python3"
  },
  "language_info": {
   "codemirror_mode": {
    "name": "ipython",
    "version": 3
   },
   "file_extension": ".py",
   "mimetype": "text/x-python",
   "name": "python",
   "nbconvert_exporter": "python",
   "pygments_lexer": "ipython3",
   "version": "3.8.8"
  },
  "orig_nbformat": 4
 },
 "nbformat": 4,
 "nbformat_minor": 2
}
